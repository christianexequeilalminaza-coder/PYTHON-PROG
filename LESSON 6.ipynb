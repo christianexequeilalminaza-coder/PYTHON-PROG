{
 "cells": [
  {
   "cell_type": "markdown",
   "id": "018c8a0b-2539-4273-994d-d2f2856ff4d3",
   "metadata": {},
   "source": [
    "# Review exercise 1"
   ]
  },
  {
   "cell_type": "code",
   "execution_count": 1,
   "id": "d812c6f8-0d4f-4ad6-adb1-f3fbf658ddb3",
   "metadata": {},
   "outputs": [
    {
     "name": "stdout",
     "output_type": "stream",
     "text": [
      "Philo's coat is brown.\n"
     ]
    }
   ],
   "source": [
    "# no 1\n",
    "class Dog:\n",
    "    def __init__(self, name, age, coat_color):\n",
    "        self.name = name\n",
    "        self.age = age\n",
    "        self.coat_color = coat_color\n",
    "\n",
    "philo = Dog(\"Philo\", 5, \"brown\")\n",
    "print(f\"{philo.name}'s coat is {philo.coat_color}.\")"
   ]
  },
  {
   "cell_type": "code",
   "execution_count": null,
   "id": "f540b990-b8b8-4dfc-a84d-f53ea3117f96",
   "metadata": {},
   "outputs": [],
   "source": [
    "# no 2\n",
    "class Car:\n",
    "    def __init__(self, color, mileage):\n",
    "        self.color = color\n",
    "        self.mileage = mileage\n",
    "\n",
    "blue_car = Car(\"blue\", 20000)\n",
    "red_car = Car(\"red\", 30000)\n",
    "\n",
    "print(f\"{blue_car.color} car has {blue_car.mileage:,} miles.\")\n",
    "print(f\"{red_car.color} car has {red_car.mileage:,} miles.\")"
   ]
  },
  {
   "cell_type": "code",
   "execution_count": null,
   "id": "6c32eb4b-ff36-4e26-80fb-0366badf6962",
   "metadata": {},
   "outputs": [],
   "source": [
    "#no 3\n",
    "class Car:\n",
    "    def __init__(self, color, mileage):\n",
    "        self.color = color\n",
    "        self.mileage = mileage\n",
    "\n",
    "    def drive(self, miles):\n",
    "        self.mileage += miles\n",
    "\n",
    "my_car = Car(\"black\", 0)\n",
    "my_car.drive(100)\n",
    "print(my_car.mileage)"
   ]
  },
  {
   "cell_type": "markdown",
   "id": "70e51e7d-1aee-4e69-9a1e-18a3e57d98cb",
   "metadata": {},
   "source": [
    "# REview exercise 2:"
   ]
  },
  {
   "cell_type": "code",
   "execution_count": 2,
   "id": "b26b07df-56e3-433d-a886-954b4df9dfb5",
   "metadata": {},
   "outputs": [
    {
     "name": "stdout",
     "output_type": "stream",
     "text": [
      "Philo says Bark\n",
      "Philo says Woof\n"
     ]
    }
   ],
   "source": [
    "class Dog:\n",
    "    species = \"Canis familiaris\"\n",
    "    def __init__(self, name, age):\n",
    "        self.name = name\n",
    "        self.age = age\n",
    "        \n",
    "    def __str__(self):\n",
    "        return f\"{self.name} is {self.age} years old\"\n",
    "        \n",
    "    def speak(self, sound):\n",
    "        return f\"{self.name} says {sound}\"\n",
    "        \n",
    "class GoldenRetriever(Dog):\n",
    "    def speak(self, sound=\"Bark\"):\n",
    "        return f\"{self.name} says {sound}\"\n",
    "\n",
    "dog = GoldenRetriever(\"Philo\", 3)\n",
    "print(dog.speak())\n",
    "print(dog.speak(\"Woof\"))"
   ]
  },
  {
   "cell_type": "code",
   "execution_count": null,
   "id": "b926dee5-468f-4667-aa68-686c3015c1d9",
   "metadata": {},
   "outputs": [],
   "source": [
    "class Rectangle:\n",
    "    def __init__(self, length, width):\n",
    "        self.length = length\n",
    "        self.width = width\n",
    "\n",
    "    def area(self):\n",
    "        return self.length * self.width\n",
    "\n",
    "class Square(Rectangle):\n",
    "    def __init__(self, side_length):\n",
    "        super().__init__(side_length, side_length)\n",
    "\n",
    "square = Square(4)\n",
    "print(square.area())"
   ]
  },
  {
   "cell_type": "code",
   "execution_count": 3,
   "id": "f2cc18f2-d423-498c-9ae2-cb25f50b2227",
   "metadata": {},
   "outputs": [
    {
     "name": "stdout",
     "output_type": "stream",
     "text": [
      "Philo Dog is sleeping.\n",
      "Philo Dog is barking loudly!\n",
      "Philo is running in the park.\n",
      "\n",
      "Garfield Cat is eating.\n",
      "Garfield is meowing softly.\n",
      "Garfield is climbing a tree.\n",
      "\n",
      "Rio Bird is eating.\n",
      "Rio is chirping happily.\n",
      "Rio is flying high in the sky.\n",
      "\n"
     ]
    }
   ],
   "source": [
    "class Animal:\n",
    "    def __init__(self, name, age, species):\n",
    "        self.name = name\n",
    "        self.age = age\n",
    "        self.species = species\n",
    "\n",
    "    def eat(self):\n",
    "        return f\"{self.name} {self.species} is eating.\"\n",
    "\n",
    "    def sleep(self):\n",
    "        return f\"{self.name} {self.species} is sleeping.\"\n",
    "\n",
    "    def __str__(self):\n",
    "        return f\"{self.name} is a {self.species} that is {self.age} years old.\"\n",
    "\n",
    "class Dog(Animal):\n",
    "    def __init__(self, name, age):\n",
    "        super().__init__(name, age, \"Dog\")\n",
    "\n",
    "    def bark(self):\n",
    "        return f\"{self.name} Dog is barking loudly!\"\n",
    "\n",
    "    def run(self):\n",
    "        return f\"{self.name} is running in the park.\"\n",
    "\n",
    "class Cat(Animal):\n",
    "    def __init__(self, name, age):\n",
    "        super().__init__(name, age, \"Cat\")\n",
    "\n",
    "    def meow(self):\n",
    "        return f\"{self.name} is meowing softly.\"\n",
    "\n",
    "    def climb(self):\n",
    "        return f\"{self.name} is climbing a tree.\"\n",
    "\n",
    "class Bird(Animal):\n",
    "    def __init__(self, name, age):\n",
    "        super().__init__(name, age, \"Bird\")\n",
    "\n",
    "    def chirp(self):\n",
    "        return f\"{self.name} is chirping happily.\"\n",
    "\n",
    "    def fly(self):\n",
    "        return f\"{self.name} is flying high in the sky.\"\n",
    "        \n",
    "dog = Dog(\"Philo\", 1)  \n",
    "print(dog.sleep()) \n",
    "print(dog.bark()) \n",
    "print(dog.run())  \n",
    "print()\n",
    "\n",
    "cat = Cat(\"Garfield\", 3)  \n",
    "print(cat.eat())  \n",
    "print(cat.meow())  \n",
    "print(cat.climb())  \n",
    "print()\n",
    "\n",
    "bird = Bird(\"Rio\", 5)\n",
    "print(bird.eat())  \n",
    "print(bird.chirp())  \n",
    "print(bird.fly())  \n",
    "print()"
   ]
  },
  {
   "cell_type": "code",
   "execution_count": null,
   "id": "3a61ceb9-5537-4ff6-83f7-9dcc723cc08b",
   "metadata": {},
   "outputs": [],
   "source": []
  }
 ],
 "metadata": {
  "kernelspec": {
   "display_name": "Python 3 (ipykernel)",
   "language": "python",
   "name": "python3"
  },
  "language_info": {
   "codemirror_mode": {
    "name": "ipython",
    "version": 3
   },
   "file_extension": ".py",
   "mimetype": "text/x-python",
   "name": "python",
   "nbconvert_exporter": "python",
   "pygments_lexer": "ipython3",
   "version": "3.13.5"
  }
 },
 "nbformat": 4,
 "nbformat_minor": 5
}
