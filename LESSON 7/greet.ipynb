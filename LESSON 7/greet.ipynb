{
 "cells": [
  {
   "cell_type": "markdown",
   "id": "4a3b53a1-4952-4ee8-9524-4de88283851d",
   "metadata": {},
   "source": [
    "# review exercise 1"
   ]
  },
  {
   "cell_type": "code",
   "execution_count": 3,
   "id": "653f04d5-53ae-41d4-ab31-060dd811cf4d",
   "metadata": {},
   "outputs": [],
   "source": [
    "#1\n",
    "def greet(name):\n",
    "    print(f\"Hello {name}!\")"
   ]
  },
  {
   "cell_type": "code",
   "execution_count": 4,
   "id": "86d1187c-1163-426b-b883-e3bd94948842",
   "metadata": {},
   "outputs": [
    {
     "name": "stdout",
     "output_type": "stream",
     "text": [
      "Hello REAL PYHTON!\n"
     ]
    }
   ],
   "source": [
    "#2\n",
    "greet(\"REAL PYHTON\")"
   ]
  },
  {
   "cell_type": "code",
   "execution_count": null,
   "id": "4b660dcb-c079-46b6-8c1e-068c656dac3b",
   "metadata": {},
   "outputs": [],
   "source": []
  }
 ],
 "metadata": {
  "kernelspec": {
   "display_name": "Python 3 (ipykernel)",
   "language": "python",
   "name": "python3"
  },
  "language_info": {
   "codemirror_mode": {
    "name": "ipython",
    "version": 3
   },
   "file_extension": ".py",
   "mimetype": "text/x-python",
   "name": "python",
   "nbconvert_exporter": "python",
   "pygments_lexer": "ipython3",
   "version": "3.13.5"
  }
 },
 "nbformat": 4,
 "nbformat_minor": 5
}
