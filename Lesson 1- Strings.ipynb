{
 "cells": [
  {
   "cell_type": "markdown",
   "id": "e4a14426-b577-4ecc-b572-45c72fc9e38c",
   "metadata": {},
   "source": [
    "# Review Question 1:"
   ]
  },
  {
   "cell_type": "code",
   "execution_count": 3,
   "id": "420d6137-bee1-42de-a690-d10e85e83748",
   "metadata": {},
   "outputs": [
    {
     "name": "stdout",
     "output_type": "stream",
     "text": [
      "15\n",
      "DataScience\n",
      "Data Science\n",
      "fox\n"
     ]
    }
   ],
   "source": [
    "# 1. Create a string and print its length\n",
    "my_string = \"Hello, Jupyter!\"\n",
    "print(len(my_string))\n",
    "\n",
    "# 2. Concatenate two strings and print\n",
    "print(\"Data\" + \"Science\")\n",
    "\n",
    "# 3. Concatenate two strings with a space and print\n",
    "print(\"Data\" + \" \" + \"Science\")\n",
    "\n",
    "# 4. Print \"fox\" by slicing the given sentence\n",
    "sentence = \"The quick brown fox jumped over the lazy dog. #1234567890!\"\n",
    "print(sentence[16:19])"
   ]
  },
  {
   "cell_type": "markdown",
   "id": "3bc94f19-f94a-4786-92f9-03eafb8b29b0",
   "metadata": {},
   "source": [
    "# Review Question 2:"
   ]
  },
  {
   "cell_type": "code",
   "execution_count": 2,
   "id": "45b63337-eeb1-46d9-beb2-700940e0ce78",
   "metadata": {},
   "outputs": [
    {
     "name": "stdout",
     "output_type": "stream",
     "text": [
      "Lowercase strings:\n",
      "animals\n",
      "badger\n",
      "honey bee\n",
      "honeybadger\n",
      "\n",
      "Uppercase strings:\n",
      "ANIMALS\n",
      "BADGER\n",
      "HONEY BEE\n",
      "HONEYBADGER\n",
      "\n",
      "Strings with whitespace removed:\n",
      "String 1: Filet Mignon\n",
      "String 2: Brisket\n",
      "\n",
      "Check if strings start with 'be':\n"
     ]
    },
    {
     "ename": "NameError",
     "evalue": "name 'string1' is not defined",
     "output_type": "error",
     "traceback": [
      "\u001b[1;31m---------------------------------------------------------------------------\u001b[0m",
      "\u001b[1;31mNameError\u001b[0m                                 Traceback (most recent call last)",
      "Cell \u001b[1;32mIn[2], line 23\u001b[0m\n\u001b[0;32m     21\u001b[0m str2 \u001b[38;5;241m=\u001b[39m \u001b[38;5;124m\"\u001b[39m\u001b[38;5;124mbecomes\u001b[39m\u001b[38;5;124m\"\u001b[39m\n\u001b[0;32m     22\u001b[0m \u001b[38;5;28mprint\u001b[39m(\u001b[38;5;124m\"\u001b[39m\u001b[38;5;130;01m\\n\u001b[39;00m\u001b[38;5;124mCheck if strings start with \u001b[39m\u001b[38;5;124m'\u001b[39m\u001b[38;5;124mbe\u001b[39m\u001b[38;5;124m'\u001b[39m\u001b[38;5;124m:\u001b[39m\u001b[38;5;124m\"\u001b[39m)\n\u001b[1;32m---> 23\u001b[0m \u001b[38;5;28mprint\u001b[39m(\u001b[38;5;124m\"\u001b[39m\u001b[38;5;124mString 1 starts with \u001b[39m\u001b[38;5;124m'\u001b[39m\u001b[38;5;124mbe\u001b[39m\u001b[38;5;124m'\u001b[39m\u001b[38;5;124m:\u001b[39m\u001b[38;5;124m\"\u001b[39m, string1\u001b[38;5;241m.\u001b[39mstartswith(\u001b[38;5;124m\"\u001b[39m\u001b[38;5;124mbe\u001b[39m\u001b[38;5;124m\"\u001b[39m))\n\u001b[0;32m     24\u001b[0m \u001b[38;5;28mprint\u001b[39m(\u001b[38;5;124m\"\u001b[39m\u001b[38;5;124mString 2 starts with \u001b[39m\u001b[38;5;124m'\u001b[39m\u001b[38;5;124mbe\u001b[39m\u001b[38;5;124m'\u001b[39m\u001b[38;5;124m:\u001b[39m\u001b[38;5;124m\"\u001b[39m, string2\u001b[38;5;241m.\u001b[39mstartswith(\u001b[38;5;124m\"\u001b[39m\u001b[38;5;124mbe\u001b[39m\u001b[38;5;124m\"\u001b[39m))\n\u001b[0;32m     26\u001b[0m \u001b[38;5;66;03m# 5. modufy strings so .startswith('be') returns True for both\u001b[39;00m\n",
      "\u001b[1;31mNameError\u001b[0m: name 'string1' is not defined"
     ]
    }
   ],
   "source": [
    "#1. cobert string to lowercase\n",
    "str_list = [\"Animals\", \"Badger\", \"Honey Bee\", \"Honeybadger\"]\n",
    "print(\"Lowercase strings:\")\n",
    "for word in str_list:\n",
    "    print(word.lower())\n",
    "\n",
    "#2. convert strings to uppercase\n",
    "print(\"\\nUppercase strings:\")\n",
    "for word in str_list:\n",
    "    print(word.upper())\n",
    "\n",
    "#3. reemove wihtespace from strings\n",
    "str1 = \" Filet Mignon\"\n",
    "str2 = \"Brisket \"\n",
    "print(\"\\nStrings with whitespace removed:\")\n",
    "print(\"String 1:\", str1.strip())\n",
    "print(\"String 2:\", str2.strip())\n",
    "\n",
    "#4. check if strings start with 'be'\n",
    "str1 = \"Becomes\"\n",
    "str2 = \"becomes\"\n",
    "print(\"\\nCheck if strings start with 'be':\")\n",
    "print(\"String 1 starts with 'be':\", string1.startswith(\"be\"))\n",
    "print(\"String 2 starts with 'be':\", string2.startswith(\"be\"))\n",
    "\n",
    "# 5. modufy strings so .startswith('be') returns True for both\n",
    "str1_modified = string1.lower()\n",
    "str2_modified = string2  # already lowercase\n",
    "print(\"\\nModified strings start with 'be':\")\n",
    "print(\"Modified String 1 starts with 'be':\", string1_modified.startswith(\"be\"))\n",
    "print(\"Modified String 2 starts with 'be':\", string2_modified.startswith(\"be\"))\n"
   ]
  },
  {
   "cell_type": "markdown",
   "id": "64af0256-34e8-433e-a058-d07846ca1ff2",
   "metadata": {},
   "source": [
    "# Review Question 3:"
   ]
  },
  {
   "cell_type": "code",
   "execution_count": 4,
   "id": "839327ae-8e7b-4e5b-8d44-cc1650c9dde4",
   "metadata": {
    "scrolled": true
   },
   "outputs": [
    {
     "name": "stdin",
     "output_type": "stream",
     "text": [
      "Enter something:  alminza\n"
     ]
    },
    {
     "name": "stdout",
     "output_type": "stream",
     "text": [
      "You entered: alminza\n"
     ]
    }
   ],
   "source": [
    "# 1. take input from the user and display it\n",
    "user_input = input(\"Enter something: \")\n",
    "print(\"You entered:\", user_input)\n",
    "\n"
   ]
  },
  {
   "cell_type": "markdown",
   "id": "80e8a84d-dfce-4738-ab5f-16067e38ec42",
   "metadata": {},
   "source": [
    "# Review Questiom 4:"
   ]
  },
  {
   "cell_type": "code",
   "execution_count": null,
   "id": "307ee020-9f63-44c9-9ec4-55b87b2db203",
   "metadata": {},
   "outputs": [],
   "source": []
  },
  {
   "cell_type": "code",
   "execution_count": 5,
   "id": "a154f995-7c31-49e2-8720-4bed0541c6f7",
   "metadata": {},
   "outputs": [
    {
     "name": "stdin",
     "output_type": "stream",
     "text": [
      "Tell me your name:  LINE\n"
     ]
    },
    {
     "name": "stdout",
     "output_type": "stream",
     "text": [
      "The first letter of your name is: L\n"
     ]
    }
   ],
   "source": [
    "# Script: first_letter.py\n",
    "\n",
    "# Prompt the user their name\n",
    "name = input(\"Tell me your name: \")\n",
    "\n",
    "# Check if the input is not empty\n",
    "if name:\n",
    "    # Get the first letter and convert it to uppercase\n",
    "    first_letter = name[0].upper()\n",
    "    print(\"The first letter of your name is:\", first_letter)\n",
    "else:\n",
    "    print(\"You didn't enter anything.\")\n"
   ]
  },
  {
   "cell_type": "markdown",
   "id": "18f216c9-c37e-4863-909a-8f6b050ab88d",
   "metadata": {},
   "source": [
    "# Review Question 5:"
   ]
  },
  {
   "cell_type": "code",
   "execution_count": 6,
   "id": "ae1713d3-0044-4f1d-8dc2-9613d3e71ac8",
   "metadata": {},
   "outputs": [
    {
     "name": "stdout",
     "output_type": "stream",
     "text": [
      "420\n",
      "6.28\n",
      "Age: 30\n"
     ]
    },
    {
     "name": "stdin",
     "output_type": "stream",
     "text": [
      "Enter first number:  30\n",
      "Enter second number:  20\n"
     ]
    },
    {
     "name": "stdout",
     "output_type": "stream",
     "text": [
      "Result: 600.0\n"
     ]
    }
   ],
   "source": [
    "# 1. Convert string to int and multiply\n",
    "num_str = \"42\"\n",
    "num_int = int(num_str)\n",
    "print(num_int * 10)\n",
    "\n",
    "# 2. Convert string to float and multiply\n",
    "float_str = \"3.14\"\n",
    "num_float = float(float_str)\n",
    "print(num_float * 2)\n",
    "\n",
    "# 3. Display string and integer side by side\n",
    "my_str = \"Age: \"\n",
    "my_int = 30\n",
    "print(my_str + str(my_int))\n",
    "\n",
    "# 4. Get two numbers from user, multiply, and display\n",
    "num1 = input(\"Enter first number: \")\n",
    "num2 = input(\"Enter second number: \")\n",
    "num1 = float(num1)\n",
    "num2 = float(num2)\n",
    "result = num1 * num2\n",
    "print(\"Result:\", result)\n"
   ]
  },
  {
   "cell_type": "markdown",
   "id": "d9f7c35f-686c-4c23-b6b9-86abe79d64e2",
   "metadata": {},
   "source": [
    "# Review Question 6:"
   ]
  },
  {
   "cell_type": "code",
   "execution_count": 7,
   "id": "3889e80d-9274-4313-91db-5cda0e1efaf0",
   "metadata": {},
   "outputs": [
    {
     "name": "stdout",
     "output_type": "stream",
     "text": [
      "-1\n",
      "\n",
      "Somebody yaid yomething to Samantha.\n",
      "\n"
     ]
    },
    {
     "name": "stdin",
     "output_type": "stream",
     "text": [
      "Enter some text:  why\n",
      "Enter letter to find:  h\n"
     ]
    },
    {
     "name": "stdout",
     "output_type": "stream",
     "text": [
      "Position of 'h' in your text: 1\n"
     ]
    }
   ],
   "source": [
    "# REview Q6\n",
    "\n",
    "# 1. Find substring \"a\" in \"AAA\" (case-sensitive)\n",
    "print(\"AAA\".find(\"a\"))  # Expected output: -1\n",
    "\n",
    "print()  # Blank line for readability\n",
    "\n",
    "# 2. Replace every 's' with 'y'\n",
    "original = \"Somebody said something to Samantha.\"\n",
    "print(original.replace(\"s\", \"y\"))\n",
    "\n",
    "print()  # Blank line\n",
    "\n",
    "# 3. User input: find letter in text\n",
    "user_text = input(\"Enter some text: \")\n",
    "letter_to_find = input(\"Enter letter to find: \")\n",
    "pos = user_text.find(letter_to_find)\n",
    "print(f\"Position of '{letter_to_find}' in your text:\", pos)\n"
   ]
  },
  {
   "cell_type": "markdown",
   "id": "5915b801-7636-4cf0-b118-06b1cde5fb9f",
   "metadata": {},
   "source": [
    "# Review Q7:"
   ]
  },
  {
   "cell_type": "code",
   "execution_count": 8,
   "id": "e34b3057-7430-4961-a32c-8d4206be8799",
   "metadata": {},
   "outputs": [
    {
     "name": "stdin",
     "output_type": "stream",
     "text": [
      "Enter some text:  a lost\n"
     ]
    },
    {
     "name": "stdout",
     "output_type": "stream",
     "text": [
      "4 1057\n"
     ]
    }
   ],
   "source": [
    "# Revieq Q7: translate.py leetspeak converter\n",
    "\n",
    "text = input(\"Enter some text: \")\n",
    "leet_text = (text\n",
    "             .replace('a', '4')\n",
    "             .replace('b', '8')\n",
    "             .replace('e', '3')\n",
    "             .replace('l', '1')\n",
    "             .replace('o', '0')\n",
    "             .replace('s', '5')\n",
    "             .replace('t', '7'))\n",
    "\n",
    "print(leet_text)\n"
   ]
  },
  {
   "cell_type": "code",
   "execution_count": null,
   "id": "1c590698-35e9-4ea8-a34a-e141c1ee93e3",
   "metadata": {},
   "outputs": [],
   "source": []
  }
 ],
 "metadata": {
  "kernelspec": {
   "display_name": "Python 3 (ipykernel)",
   "language": "python",
   "name": "python3"
  },
  "language_info": {
   "codemirror_mode": {
    "name": "ipython",
    "version": 3
   },
   "file_extension": ".py",
   "mimetype": "text/x-python",
   "name": "python",
   "nbconvert_exporter": "python",
   "pygments_lexer": "ipython3",
   "version": "3.13.5"
  }
 },
 "nbformat": 4,
 "nbformat_minor": 5
}
