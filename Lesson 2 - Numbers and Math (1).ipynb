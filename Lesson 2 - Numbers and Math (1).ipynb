{
 "cells": [
  {
   "cell_type": "markdown",
   "id": "2ebc9877-d2b3-40df-9690-a51ab5a21620",
   "metadata": {},
   "source": [
    "# Review Q1:"
   ]
  },
  {
   "cell_type": "code",
   "execution_count": 1,
   "id": "32224c5e-af8a-4f96-aebf-a979df0beddf",
   "metadata": {},
   "outputs": [
    {
     "name": "stdout",
     "output_type": "stream",
     "text": [
      "num1: 25000000\n",
      "num2: 25000000\n",
      "num: 175000.0\n",
      "Smallest N where 2eN is infinity: 308\n",
      "2e308 = inf\n"
     ]
    }
   ],
   "source": [
    "import math\n",
    "\n",
    "# Part 1\n",
    "num1 = 25_000_000\n",
    "num2 = 25000000  \n",
    "print(\"num1:\", num1)\n",
    "print(\"num2:\", num2)\n",
    "\n",
    "# Part 2\n",
    "num = 1.75e5\n",
    "print(\"num:\", num)\n",
    "\n",
    "# Part 3\n",
    "N = 1\n",
    "while True:\n",
    "    value = float(f\"2e{N}\")\n",
    "    if math.isinf(value):\n",
    "        break\n",
    "    N += 1\n",
    "\n",
    "print(\"Smallest N where 2eN is infinity:\", N)\n",
    "print(\"2e{} =\".format(N), float(f\"2e{N}\"))\n"
   ]
  },
  {
   "cell_type": "markdown",
   "id": "4a79636c-c0a3-40d1-89f5-6218ada7bc18",
   "metadata": {},
   "source": [
    "# Review Q2:"
   ]
  },
  {
   "cell_type": "code",
   "execution_count": 2,
   "id": "64edb16e-3bc4-47e3-b778-08ea80a614c0",
   "metadata": {},
   "outputs": [
    {
     "name": "stdin",
     "output_type": "stream",
     "text": [
      "Enter a base:  1.2\n",
      "Enter an exponent:  3\n"
     ]
    },
    {
     "name": "stdout",
     "output_type": "stream",
     "text": [
      "1.2 to the power of 3 = 1.7279999999999998\n"
     ]
    }
   ],
   "source": [
    "# exponent.py\n",
    "\n",
    "base = float(input(\"Enter a base: \"))\n",
    "exponent = int(input(\"Enter an exponent: \"))\n",
    "\n",
    "result = base ** exponent\n",
    "\n",
    "print(f\"{base} to the power of {exponent} = {result}\")\n"
   ]
  },
  {
   "cell_type": "markdown",
   "id": "9187f1d3-485f-4c4b-a6e1-2f33e6f66fbe",
   "metadata": {},
   "source": [
    "# Review Q3:"
   ]
  },
  {
   "cell_type": "code",
   "execution_count": 3,
   "id": "b196d8ee-cc1a-43d5-a2ed-c7b153f09d1d",
   "metadata": {},
   "outputs": [
    {
     "name": "stdin",
     "output_type": "stream",
     "text": [
      "Enter a number:  2\n"
     ]
    },
    {
     "name": "stdout",
     "output_type": "stream",
     "text": [
      "2.0 rounded to 2 decimal places is 2.0\n"
     ]
    }
   ],
   "source": [
    "num = float(input(\"Enter a number: \"))\n",
    "\n",
    "rounded_num = round(num, 2)\n",
    "\n",
    "print(f\"{num} rounded to 2 decimal places is {rounded_num}\")\n"
   ]
  },
  {
   "cell_type": "code",
   "execution_count": 4,
   "id": "a9e97de3-f0b7-48e1-b535-21c92f26ef51",
   "metadata": {},
   "outputs": [
    {
     "name": "stdin",
     "output_type": "stream",
     "text": [
      "Enter a number:  -10\n"
     ]
    },
    {
     "name": "stdout",
     "output_type": "stream",
     "text": [
      "The absolute value of -10.0 is 10.0\n"
     ]
    }
   ],
   "source": [
    "num = float(input(\"Enter a number: \"))\n",
    "\n",
    "abs_value = abs(num)\n",
    "\n",
    "print(f\"The absolute value of {num} is {abs_value}\")\n",
    "\n"
   ]
  },
  {
   "cell_type": "code",
   "execution_count": 7,
   "id": "ed3b8f82-431e-4c0c-bda1-e475df1c7d6a",
   "metadata": {},
   "outputs": [
    {
     "name": "stdin",
     "output_type": "stream",
     "text": [
      "Enter a number:  1.5\n",
      "Enter another number:  .5\n"
     ]
    },
    {
     "name": "stdout",
     "output_type": "stream",
     "text": [
      "The difference between 1.5 and 0.5 is an integer? True!\n"
     ]
    }
   ],
   "source": [
    "num1 = float(input(\"Enter a number: \"))\n",
    "num2 = float(input(\"Enter another number: \"))\n",
    "\n",
    "difference = num1 - num2\n",
    "is_integer = difference.is_integer()\n",
    "\n",
    "print(f\"The difference between {num1} and {num2} is an integer? {is_integer}!\")\n"
   ]
  },
  {
   "cell_type": "markdown",
   "id": "56c7d24e-660b-434c-9dbf-1db83f471d6d",
   "metadata": {},
   "source": [
    "# Review Q4:"
   ]
  },
  {
   "cell_type": "code",
   "execution_count": 1,
   "id": "f259b57f-902e-41dc-83e7-abf3dc1d1ba9",
   "metadata": {},
   "outputs": [
    {
     "name": "stdout",
     "output_type": "stream",
     "text": [
      "1. 1.147\n",
      "2. $150,000.00\n",
      "3. 20%\n"
     ]
    }
   ],
   "source": [
    "\n",
    "result = 3 ** 0.125\n",
    "print(f\"1. {result:.3f}\")\n",
    "\n",
    "amount = 150000\n",
    "print(f\"2. ${amount:,.2f}\")\n",
    "\n",
    "percent = 2 / 10\n",
    "print(f\"3. {percent:.0%}\")\n"
   ]
  },
  {
   "cell_type": "code",
   "execution_count": null,
   "id": "300fccbc-4742-47f1-b21e-046c0b636df1",
   "metadata": {},
   "outputs": [],
   "source": []
  }
 ],
 "metadata": {
  "kernelspec": {
   "display_name": "Python 3 (ipykernel)",
   "language": "python",
   "name": "python3"
  },
  "language_info": {
   "codemirror_mode": {
    "name": "ipython",
    "version": 3
   },
   "file_extension": ".py",
   "mimetype": "text/x-python",
   "name": "python",
   "nbconvert_exporter": "python",
   "pygments_lexer": "ipython3",
   "version": "3.13.5"
  }
 },
 "nbformat": 4,
 "nbformat_minor": 5
}
