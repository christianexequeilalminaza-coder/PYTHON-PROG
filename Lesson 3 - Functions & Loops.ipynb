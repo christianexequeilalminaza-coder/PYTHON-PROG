{
 "cells": [
  {
   "cell_type": "markdown",
   "id": "0a627137-8b9e-4629-9f5d-00cb1c6d7062",
   "metadata": {},
   "source": [
    "# Reviiew Q1:"
   ]
  },
  {
   "cell_type": "code",
   "execution_count": 22,
   "id": "22c62c4f-0703-49e1-8ed4-323918eb216f",
   "metadata": {},
   "outputs": [
    {
     "name": "stdout",
     "output_type": "stream",
     "text": [
      "cube of 2: 8\n",
      "cube of 3: 27\n",
      "cube of 5: 125\n",
      "cube of -4: -64\n"
     ]
    }
   ],
   "source": [
    "def cube(number):\n",
    "    return number ** 3\n",
    "\n",
    "print(\"cube of 2:\", cube(2))                         \n",
    "print(\"cube of 3:\", cube (3))\n",
    "print(\"cube of 5:\", cube(5))\n",
    "print(\"cube of -4:\", cube(-4))"
   ]
  },
  {
   "cell_type": "code",
   "execution_count": 20,
   "id": "d9c30972-f925-4be3-90c3-0fafd986a3c4",
   "metadata": {},
   "outputs": [
    {
     "name": "stdout",
     "output_type": "stream",
     "text": [
      "hello, Sakura!\n",
      "hello, Shiro!\n",
      "hello, Shizuka!\n"
     ]
    }
   ],
   "source": [
    "def greet(name):\n",
    "    print (f\"hello, {name}!\")\n",
    "\n",
    "greet(\"Sakura\")\n",
    "greet(\"Shiro\")\n",
    "greet(\"Shizuka\")"
   ]
  },
  {
   "cell_type": "markdown",
   "id": "f1d40e0c-672c-40c9-b86d-e751a284401f",
   "metadata": {},
   "source": [
    "# Challenge: Convert Temperatures"
   ]
  },
  {
   "cell_type": "code",
   "execution_count": 25,
   "id": "42659a54-8c2e-46d8-9b85-cce675effa12",
   "metadata": {},
   "outputs": [
    {
     "name": "stdout",
     "output_type": "stream",
     "text": [
      " 72 degrees F = 22.22 degrees C\n",
      "37 degrees C = 98.60 degrees F\n"
     ]
    }
   ],
   "source": [
    "def convert_cel_to_far (celcius: float) -> float:\n",
    "    return (celcius * 9/5) + 32\n",
    "\n",
    "def convert_far_to_cel (fahrenheit: float) -> float:\n",
    "    return (fahrenheit - 32) * 5/9\n",
    "\n",
    "temp_f = 72\n",
    "print(f\" {temp_f} degrees F = {convert_far_to_cel(temp_f):.2f} degrees C\")\n",
    "\n",
    "temp_c = 37\n",
    "print(f\"{temp_c} degrees C = {convert_cel_to_far(temp_c):.2f} degrees F\")"
   ]
  },
  {
   "cell_type": "markdown",
   "id": "2ddaaae1-da0d-427d-946c-7440307d5768",
   "metadata": {},
   "source": [
    "# Review Q2:"
   ]
  },
  {
   "cell_type": "code",
   "execution_count": 26,
   "id": "30e9afa7-0219-4567-a37a-928e062181e9",
   "metadata": {},
   "outputs": [
    {
     "name": "stdout",
     "output_type": "stream",
     "text": [
      "For loop (2 to 10):\n",
      "2\n",
      "3\n",
      "4\n",
      "5\n",
      "6\n",
      "7\n",
      "8\n",
      "9\n",
      "10\n",
      "\n",
      "While loop (2 to 10):\n",
      "2\n",
      "3\n",
      "4\n",
      "5\n",
      "6\n",
      "7\n",
      "8\n",
      "9\n",
      "10\n",
      "\n",
      "Doubling the number 2 three times:\n",
      "4\n",
      "8\n",
      "16\n"
     ]
    }
   ],
   "source": [
    "print(\"For loop (2 to 10):\")\n",
    "for i in range(2, 11):\n",
    "    print(i)\n",
    "\n",
    "\n",
    "print(\"\\nWhile loop (2 to 10):\")\n",
    "num = 2\n",
    "while num <= 10:\n",
    "    print(num)\n",
    "    num += 1\n",
    "\n",
    "\n",
    "def doubles(number):\n",
    "    return number * 2\n",
    "\n",
    "print(\"\\nDoubling the number 2 three times:\")\n",
    "value = 2\n",
    "for _ in range(3):\n",
    "    value = doubles(value)\n",
    "    print(value)\n"
   ]
  },
  {
   "cell_type": "code",
   "execution_count": null,
   "id": "b920d42e-215e-419a-bfd3-c1b3099bac05",
   "metadata": {},
   "outputs": [],
   "source": []
  }
 ],
 "metadata": {
  "kernelspec": {
   "display_name": "Python 3 (ipykernel)",
   "language": "python",
   "name": "python3"
  },
  "language_info": {
   "codemirror_mode": {
    "name": "ipython",
    "version": 3
   },
   "file_extension": ".py",
   "mimetype": "text/x-python",
   "name": "python",
   "nbconvert_exporter": "python",
   "pygments_lexer": "ipython3",
   "version": "3.13.5"
  }
 },
 "nbformat": 4,
 "nbformat_minor": 5
}
