{
 "cells": [
  {
   "cell_type": "markdown",
   "id": "4d8798f8-add5-420f-9653-70432fcf5d9f",
   "metadata": {},
   "source": [
    "# R E1:"
   ]
  },
  {
   "cell_type": "code",
   "execution_count": 1,
   "id": "27f7fd6f-3182-45c0-a2dd-2a5fc9945760",
   "metadata": {},
   "outputs": [
    {
     "name": "stdout",
     "output_type": "stream",
     "text": [
      "True\n",
      "False\n",
      "True\n",
      "True\n",
      "True\n",
      "False\n"
     ]
    }
   ],
   "source": [
    "print (1 <= 1)\n",
    "print (1 != 1)\n",
    "print (1 != 2)\n",
    "print (\"good\" != \"bad\")\n",
    "print (\"good\" != \"Good\")\n",
    "print (123 == \"123\")"
   ]
  },
  {
   "cell_type": "code",
   "execution_count": 3,
   "id": "bb3e817c-1100-451a-af3c-b6cebdaf3af6",
   "metadata": {},
   "outputs": [
    {
     "name": "stdout",
     "output_type": "stream",
     "text": [
      "True\n",
      "True\n",
      "True\n",
      "True\n"
     ]
    }
   ],
   "source": [
    "print (3 < 4)\n",
    "print (10 > 5)\n",
    "print (\"jack\" <= \"jill\")\n",
    "print (42 == 42)"
   ]
  },
  {
   "cell_type": "markdown",
   "id": "d950022c-d38a-4b4d-833f-047ab3b325d7",
   "metadata": {},
   "source": [
    "# R E2"
   ]
  },
  {
   "cell_type": "code",
   "execution_count": 4,
   "id": "76be1381-4232-437a-9d28-01b6ede1c861",
   "metadata": {},
   "outputs": [
    {
     "name": "stdout",
     "output_type": "stream",
     "text": [
      "True\n",
      "False\n",
      "True\n",
      "False\n"
     ]
    }
   ],
   "source": [
    "#No 1:\n",
    "print(1 <= 1) and (1 != 2)\n",
    "print(not (1 != 2))\n",
    "print(\"good\" != \"bad\" or False)\n",
    "print(\"good\" != \"Good\" and not (1 == 1))"
   ]
  },
  {
   "cell_type": "code",
   "execution_count": 5,
   "id": "1aa22ca9-34e3-46c5-9eb5-072201a1cce0",
   "metadata": {},
   "outputs": [
    {
     "name": "stdout",
     "output_type": "stream",
     "text": [
      "True\n",
      "True\n",
      "False\n"
     ]
    },
    {
     "data": {
      "text/plain": [
       "True"
      ]
     },
     "execution_count": 5,
     "metadata": {},
     "output_type": "execute_result"
    }
   ],
   "source": [
    "#No 2:\n",
    "print(False == (not True))\n",
    "print((True and False) == (True and False))\n",
    "print((not True) and (\"A\" == \"B\"))\n",
    "True"
   ]
  },
  {
   "cell_type": "markdown",
   "id": "83007450-a8b3-43dc-a9ec-abdacdc0b7bd",
   "metadata": {},
   "source": [
    "# R E3:"
   ]
  },
  {
   "cell_type": "code",
   "execution_count": 6,
   "id": "9c4981e1-5063-4ac2-a7ff-f96f9a2220c8",
   "metadata": {},
   "outputs": [
    {
     "name": "stdin",
     "output_type": "stream",
     "text": [
      "Enter a word:  Xeeke\n"
     ]
    },
    {
     "name": "stdout",
     "output_type": "stream",
     "text": [
      "The word 'Xeeke' has exactly 5 characters.\n"
     ]
    }
   ],
   "source": [
    "word = input(\"Enter a word: \")\n",
    "\n",
    "if len(word) < 5:\n",
    "    print(f\"The word '{word}' has less than 5 characters.\")\n",
    "elif len(word) > 5:\n",
    "    print(f\"The word '{word}' has more than 5 characters.\")\n",
    "else:\n",
    "    print(f\"The word '{word}' has exactly 5 characters.\")"
   ]
  },
  {
   "cell_type": "markdown",
   "id": "5814a867-ab1b-4e6b-89bf-306d0fa7cc26",
   "metadata": {},
   "source": [
    "# R E4:"
   ]
  },
  {
   "cell_type": "code",
   "execution_count": 7,
   "id": "9496d1ef-d9fd-4f3e-9b2c-917c04e08aee",
   "metadata": {},
   "outputs": [
    {
     "name": "stdin",
     "output_type": "stream",
     "text": [
      "Enter anything (or 'Q' to stop):  aw\n",
      "Enter anything (or 'Q' to stop):  q\n"
     ]
    },
    {
     "name": "stdout",
     "output_type": "stream",
     "text": [
      "Ciao\n"
     ]
    }
   ],
   "source": [
    "#no 1.\n",
    "for _ in range(1000000):\n",
    "    user_input = input(\"Enter anything (or 'Q' to stop): \")\n",
    "\n",
    "    if user_input == \"Q\" or user_input == \"q\":\n",
    "        print(\"Ciao\")\n",
    "        break"
   ]
  },
  {
   "cell_type": "code",
   "execution_count": null,
   "id": "f63c4834-a783-40d5-a38b-dcee6fbe1f0a",
   "metadata": {},
   "outputs": [],
   "source": [
    "#no 2.\n",
    "for n in range(1, 50):\n",
    "    if n % 3 == 0:\n",
    "        continue\n",
    "    print(n)"
   ]
  },
  {
   "cell_type": "markdown",
   "id": "d2a26784-1558-468c-a8e1-1989f01f783a",
   "metadata": {},
   "source": [
    "# R E5:"
   ]
  },
  {
   "cell_type": "code",
   "execution_count": 13,
   "id": "518031cb-edc0-4460-b1f0-1cb7ef1669df",
   "metadata": {},
   "outputs": [
    {
     "name": "stdin",
     "output_type": "stream",
     "text": [
      "Enter an integer:  2\n"
     ]
    },
    {
     "name": "stdout",
     "output_type": "stream",
     "text": [
      "An Integer: 2\n"
     ]
    }
   ],
   "source": [
    "# no 1\n",
    "while True:\n",
    "    try:\n",
    "        num = int(input(\"Enter an integer: \"))\n",
    "        print(f\"An Integer: {num}\")\n",
    "        break  # Exit once integer is entered.\n",
    "    except ValueError:\n",
    "        print(\"That’s not an integer, try again.\")"
   ]
  },
  {
   "cell_type": "code",
   "execution_count": 14,
   "id": "3bc9e96f-1803-4ae1-9d77-3fe1d37cad11",
   "metadata": {},
   "outputs": [
    {
     "name": "stdin",
     "output_type": "stream",
     "text": [
      "Enter a string:  appa\n",
      "Enter an integer index n:  3\n"
     ]
    },
    {
     "name": "stdout",
     "output_type": "stream",
     "text": [
      "The character at index 3 is 'a'.\n"
     ]
    }
   ],
   "source": [
    "#no 2.\n",
    "user_string = input(\"Enter a string: \")\n",
    "\n",
    "n = int(input(\"Enter an integer index n: \"))\n",
    "if 0 <= n < len(user_string):\n",
    "    print(f\"The character at index {n} is '{user_string[n]}'.\")\n",
    "else:\n",
    "    print(\"Invalid: Index out of range.\")"
   ]
  },
  {
   "cell_type": "markdown",
   "id": "6072cdf2-efca-4aef-a172-0917a3c09580",
   "metadata": {},
   "source": [
    "# R E6:"
   ]
  },
  {
   "cell_type": "code",
   "execution_count": 16,
   "id": "08a48165-6e3b-4edf-834d-1ef0b72d1ac9",
   "metadata": {},
   "outputs": [
    {
     "name": "stdout",
     "output_type": "stream",
     "text": [
      "5\n"
     ]
    }
   ],
   "source": [
    "#no 1.\n",
    "import random\n",
    "def roll():\n",
    "    \"\"\"Simulate rolling a fair die (1-6).\"\"\"\n",
    "    return random.randint(1, 6)\n",
    "\n",
    "print (roll())"
   ]
  },
  {
   "cell_type": "code",
   "execution_count": 17,
   "id": "74c07937-15f6-48a8-9abe-76db807a58b9",
   "metadata": {},
   "outputs": [
    {
     "name": "stdout",
     "output_type": "stream",
     "text": [
      "Average number rolled after 10000 rolls: 3.49\n"
     ]
    }
   ],
   "source": [
    "#no 2.\n",
    "import random\n",
    "def roll():\n",
    "    \"\"\"Simulate rolling a fair die (1-6).\"\"\"\n",
    "    return random.randint(1, 6)\n",
    "    \n",
    "total = 0\n",
    "num_rolls = 10000\n",
    "\n",
    "for _ in range(num_rolls):\n",
    "    total += roll()\n",
    "\n",
    "average = total / num_rolls\n",
    "print(f\"Average number rolled after {num_rolls} rolls: {average:.2f}\")"
   ]
  },
  {
   "cell_type": "markdown",
   "id": "542c0fce-347d-4f50-abde-0729615442bd",
   "metadata": {},
   "source": [
    "# CHALLENGE: SIMULATE AN ELECTION:"
   ]
  },
  {
   "cell_type": "code",
   "execution_count": 19,
   "id": "04c500aa-a3b8-43b9-8015-7062905780ee",
   "metadata": {},
   "outputs": [
    {
     "name": "stdout",
     "output_type": "stream",
     "text": [
      "Candidate B wins\n"
     ]
    }
   ],
   "source": [
    "import random\n",
    "prob_region_1 = 0.87\n",
    "prob_region_2 = 0.65\n",
    "prob_region_3 = 0.17\n",
    "def simulate_election():\n",
    "    wins = 0\n",
    "    # Simulate Region 1\n",
    "    if random.random() < prob_region_1:\n",
    "        wins += 1\n",
    "    # Simulate Region 2\n",
    "    if random.random() < prob_region_2:\n",
    "        wins += 1\n",
    "    # Simulate Region 3\n",
    "    if random.random() < prob_region_3:\n",
    "        wins += 1\n",
    "    if wins >= 2:\n",
    "        return \"Candidate A wins\"\n",
    "    else:\n",
    "        return \"Candidate B wins\"\n",
    "# Run the simulation once\n",
    "result = simulate_election()\n",
    "print(result)"
   ]
  }
 ],
 "metadata": {
  "kernelspec": {
   "display_name": "Python 3 (ipykernel)",
   "language": "python",
   "name": "python3"
  },
  "language_info": {
   "codemirror_mode": {
    "name": "ipython",
    "version": 3
   },
   "file_extension": ".py",
   "mimetype": "text/x-python",
   "name": "python",
   "nbconvert_exporter": "python",
   "pygments_lexer": "ipython3",
   "version": "3.13.5"
  }
 },
 "nbformat": 4,
 "nbformat_minor": 5
}
