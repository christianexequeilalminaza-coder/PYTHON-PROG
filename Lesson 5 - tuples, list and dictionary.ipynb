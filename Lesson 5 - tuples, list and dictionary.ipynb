{
 "cells": [
  {
   "cell_type": "markdown",
   "id": "54c01e11-6c6b-44dd-ab2d-998405d26f2f",
   "metadata": {},
   "source": [
    "# REview Q1: "
   ]
  },
  {
   "cell_type": "code",
   "execution_count": 1,
   "id": "682fa514-270b-4f92-9a22-114036106b91",
   "metadata": {},
   "outputs": [
    {
     "data": {
      "text/plain": [
       "('FIRST', 'SECOND', 'THIRD')"
      ]
     },
     "execution_count": 1,
     "metadata": {},
     "output_type": "execute_result"
    }
   ],
   "source": [
    "# 1. Tuple l\n",
    "cardinal_numbers = (\"FIRST\", \"SECOND\", \"THIRD\")\n",
    "cardinal_numbers\n"
   ]
  },
  {
   "cell_type": "code",
   "execution_count": 2,
   "id": "0ecb9689-7277-49e7-94d5-f88a5d4d4a4a",
   "metadata": {},
   "outputs": [
    {
     "name": "stdout",
     "output_type": "stream",
     "text": [
      "SECOND\n"
     ]
    }
   ],
   "source": [
    "# 2. Displaystring at index 1\n",
    "print(cardinal_numbers[1])\n"
   ]
  },
  {
   "cell_type": "code",
   "execution_count": 3,
   "id": "7592364a-5525-4a77-8e21-013857d3d7e7",
   "metadata": {},
   "outputs": [
    {
     "name": "stdout",
     "output_type": "stream",
     "text": [
      "FIRST\n",
      "SECOND\n",
      "THIRD\n"
     ]
    }
   ],
   "source": [
    "# 3. Unpack val\n",
    "position1, position2, position3 = cardinal_numbers\n",
    "print(position1)\n",
    "print(position2)\n",
    "print(position3)\n"
   ]
  },
  {
   "cell_type": "code",
   "execution_count": 4,
   "id": "e14365f8-80a5-4e74-8fdf-5c432c0de1f6",
   "metadata": {},
   "outputs": [
    {
     "data": {
      "text/plain": [
       "('C', 'H', 'R', 'I', 'S', 'T', 'I', 'A', 'N')"
      ]
     },
     "execution_count": 4,
     "metadata": {},
     "output_type": "execute_result"
    }
   ],
   "source": [
    "# 4. tuple from your name\n",
    "my_name = tuple(\"CHRISTIAN\")\n",
    "my_name\n"
   ]
  },
  {
   "cell_type": "code",
   "execution_count": 5,
   "id": "0bc9f1ad-68ac-4331-93ea-638962368df1",
   "metadata": {},
   "outputs": [
    {
     "data": {
      "text/plain": [
       "False"
      ]
     },
     "execution_count": 5,
     "metadata": {},
     "output_type": "execute_result"
    }
   ],
   "source": [
    "# 5. Check if \"X\" in my_name\n",
    "\"X\" in my_name\n"
   ]
  },
  {
   "cell_type": "code",
   "execution_count": 6,
   "id": "cb877d48-c48a-44bd-ab45-65c1d1bb255f",
   "metadata": {},
   "outputs": [
    {
     "data": {
      "text/plain": [
       "('H', 'R', 'I', 'S', 'T', 'I', 'A', 'N')"
      ]
     },
     "execution_count": 6,
     "metadata": {},
     "output_type": "execute_result"
    }
   ],
   "source": [
    "# 6.\n",
    "new_tuple = my_name[1:]\n",
    "new_tuple\n"
   ]
  },
  {
   "cell_type": "markdown",
   "id": "0f968312-2403-4c11-866a-989fe592407c",
   "metadata": {},
   "source": [
    "# REview Q2: "
   ]
  },
  {
   "cell_type": "code",
   "execution_count": 7,
   "id": "aea57aab-dc2a-4339-a56a-c9c824b303ca",
   "metadata": {},
   "outputs": [
    {
     "data": {
      "text/plain": [
       "['RICE', 'BEANS']"
      ]
     },
     "execution_count": 7,
     "metadata": {},
     "output_type": "execute_result"
    }
   ],
   "source": [
    "# 1.\n",
    "food = [\"RICE\", \"BEANS\"]\n",
    "food\n"
   ]
  },
  {
   "cell_type": "code",
   "execution_count": 8,
   "id": "3bed452f-6a2b-4e1b-8fdd-375312e84f0e",
   "metadata": {},
   "outputs": [
    {
     "data": {
      "text/plain": [
       "['RICE', 'BEANS', 'BROCCOLI']"
      ]
     },
     "execution_count": 8,
     "metadata": {},
     "output_type": "execute_result"
    }
   ],
   "source": [
    "# 2.\n",
    "food.append(\"BROCCOLI\")\n",
    "food\n"
   ]
  },
  {
   "cell_type": "code",
   "execution_count": 9,
   "id": "a51e6a73-7bcd-4e92-aa7b-5a98c8584ff4",
   "metadata": {},
   "outputs": [
    {
     "data": {
      "text/plain": [
       "['RICE', 'BEANS', 'BROCCOLI', 'BREAD', 'PIZZA']"
      ]
     },
     "execution_count": 9,
     "metadata": {},
     "output_type": "execute_result"
    }
   ],
   "source": [
    "# 3.\n",
    "food.extend([\"BREAD\", \"PIZZA\"])\n",
    "food\n"
   ]
  },
  {
   "cell_type": "code",
   "execution_count": 10,
   "id": "2d4ec613-0ad1-4179-8528-e03bbbcfae13",
   "metadata": {},
   "outputs": [
    {
     "data": {
      "text/plain": [
       "['RICE', 'BEANS']"
      ]
     },
     "execution_count": 10,
     "metadata": {},
     "output_type": "execute_result"
    }
   ],
   "source": [
    "# 4.\n",
    "food[:2]\n"
   ]
  },
  {
   "cell_type": "code",
   "execution_count": 11,
   "id": "9963d816-4846-481f-af63-e4760f9fa0d2",
   "metadata": {},
   "outputs": [
    {
     "data": {
      "text/plain": [
       "'PIZZA'"
      ]
     },
     "execution_count": 11,
     "metadata": {},
     "output_type": "execute_result"
    }
   ],
   "source": [
    "# 5.\n",
    "food[-1]\n"
   ]
  },
  {
   "cell_type": "code",
   "execution_count": 12,
   "id": "d9ae38ab-73ff-4174-96d8-93927f5bfd14",
   "metadata": {},
   "outputs": [
    {
     "data": {
      "text/plain": [
       "['EGGS', 'FRUIT', 'ORANGE JUICE']"
      ]
     },
     "execution_count": 12,
     "metadata": {},
     "output_type": "execute_result"
    }
   ],
   "source": [
    "# 6.\n",
    "breakfast = \"EGGS, FRUIT, ORANGE JUICE\".split(\", \")\n",
    "breakfast\n"
   ]
  },
  {
   "cell_type": "code",
   "execution_count": 13,
   "id": "b02f0da1-fdc9-492f-9ddb-8701755e2611",
   "metadata": {},
   "outputs": [
    {
     "data": {
      "text/plain": [
       "3"
      ]
     },
     "execution_count": 13,
     "metadata": {},
     "output_type": "execute_result"
    }
   ],
   "source": [
    "# 7. \n",
    "len(breakfast)"
   ]
  },
  {
   "cell_type": "code",
   "execution_count": 14,
   "id": "8d6eeedc-7401-41e3-b472-97b6bad0d9ce",
   "metadata": {},
   "outputs": [
    {
     "data": {
      "text/plain": [
       "[4, 5, 12]"
      ]
     },
     "execution_count": 14,
     "metadata": {},
     "output_type": "execute_result"
    }
   ],
   "source": [
    "# 8.\n",
    "lengths = [len(item) for item in breakfast]\n",
    "lengths"
   ]
  },
  {
   "cell_type": "markdown",
   "id": "c5032297-1864-45c5-a94b-9d5ffbaeeccc",
   "metadata": {},
   "source": [
    "# Review Q3:"
   ]
  },
  {
   "cell_type": "code",
   "execution_count": 15,
   "id": "646a908c-38f1-4c84-a091-8977df2c4454",
   "metadata": {},
   "outputs": [
    {
     "data": {
      "text/plain": [
       "((1, 2), (3, 4))"
      ]
     },
     "execution_count": 15,
     "metadata": {},
     "output_type": "execute_result"
    }
   ],
   "source": [
    "# 1.\n",
    "data = ((1, 2), (3, 4))\n",
    "data"
   ]
  },
  {
   "cell_type": "code",
   "execution_count": 16,
   "id": "ded9eb96-a3e0-4da1-828f-c6b9070523f2",
   "metadata": {},
   "outputs": [
    {
     "name": "stdout",
     "output_type": "stream",
     "text": [
      "3\n",
      "7\n"
     ]
    }
   ],
   "source": [
    "# 2.\n",
    "for item in data:\n",
    "    print(sum(item))\n"
   ]
  },
  {
   "cell_type": "code",
   "execution_count": 17,
   "id": "02054c10-2d7f-4048-9b34-caebefd366cd",
   "metadata": {},
   "outputs": [
    {
     "data": {
      "text/plain": [
       "[5, 2, 9, 1, 7]"
      ]
     },
     "execution_count": 17,
     "metadata": {},
     "output_type": "execute_result"
    }
   ],
   "source": [
    "# 3 & 4.\n",
    "numbers = [5, 2, 9, 1, 7]\n",
    "numbers_copy = numbers[:]\n",
    "numbers_copy\n"
   ]
  },
  {
   "cell_type": "code",
   "execution_count": 18,
   "id": "e289523c-523c-4aef-af2f-bddc7bf6868a",
   "metadata": {},
   "outputs": [
    {
     "data": {
      "text/plain": [
       "[1, 2, 5, 7, 9]"
      ]
     },
     "execution_count": 18,
     "metadata": {},
     "output_type": "execute_result"
    }
   ],
   "source": [
    "# 5.\n",
    "numbers.sort()\n",
    "numbers"
   ]
  },
  {
   "cell_type": "markdown",
   "id": "fc17d0a6-acda-4bd1-b989-60b4d7b1116a",
   "metadata": {},
   "source": [
    "# Challenge: LIst of list"
   ]
  },
  {
   "cell_type": "code",
   "execution_count": 22,
   "id": "a00b0481-b9c2-4b49-911e-10a13ce57404",
   "metadata": {},
   "outputs": [
    {
     "data": {
      "text/plain": [
       "[['California Institute of Technology', 2175, 37704],\n",
       " ['Harvard', 19627, 39849],\n",
       " ['Massachusetts Institute of Technology', 10566, 40732],\n",
       " ['Princeton', 7802, 37000],\n",
       " ['Rice', 5879, 35551],\n",
       " ['Stanford', 19535, 40569],\n",
       " ['Yale', 11701, 40500]]"
      ]
     },
     "execution_count": 22,
     "metadata": {},
     "output_type": "execute_result"
    }
   ],
   "source": [
    "# Challenge: List of Lists\n",
    "universities = [\n",
    "    ['California Institute of Technology', 2175, 37704],\n",
    "    ['Harvard', 19627, 39849],\n",
    "    ['Massachusetts Institute of Technology', 10566, 40732],\n",
    "    ['Princeton', 7802, 37000],\n",
    "    ['Rice', 5879, 35551],\n",
    "    ['Stanford', 19535, 40569],\n",
    "    ['Yale', 11701, 40500]\n",
    "]\n",
    "universities"
   ]
  },
  {
   "cell_type": "markdown",
   "id": "75d83b7a-302b-4cd2-b208-2da6d6b5332a",
   "metadata": {},
   "source": [
    "# CHALLNEG: WAx Poetic"
   ]
  },
  {
   "cell_type": "code",
   "execution_count": 24,
   "id": "15a27f31-e202-4a61-94f5-88e4368a50b0",
   "metadata": {},
   "outputs": [
    {
     "data": {
      "text/plain": [
       "(['fossil',\n",
       "  'horse',\n",
       "  'aardvark',\n",
       "  'judge',\n",
       "  'chef',\n",
       "  'mango',\n",
       "  'extrovert',\n",
       "  'gorilla'],\n",
       " ['kicks', 'jingles', 'bounces', 'slurps', 'meows', 'explodes', 'curdles'],\n",
       " ['furry', 'balding', 'incredulous', 'fragrant', 'exuberant', 'glistening'],\n",
       " ['against',\n",
       "  'after',\n",
       "  'into',\n",
       "  'beneath',\n",
       "  'upon',\n",
       "  'for',\n",
       "  'in',\n",
       "  'like',\n",
       "  'over',\n",
       "  'within'],\n",
       " ['curiously', 'furiously', 'sensuously', 'extravagantly', 'tantalizingly'])"
      ]
     },
     "execution_count": 24,
     "metadata": {},
     "output_type": "execute_result"
    }
   ],
   "source": [
    "# Challenge: Wax Poetic\n",
    "\n",
    "nouns = [\"fossil\", \"horse\", \"aardvark\", \"judge\", \"chef\", \"mango\", \"extrovert\", \"gorilla\"]\n",
    "\n",
    "verbs = [\"kicks\", \"jingles\", \"bounces\", \"slurps\", \"meows\", \"explodes\", \"curdles\"]\n",
    "\n",
    "adjectives = [\"furry\", \"balding\", \"incredulous\", \"fragrant\", \"exuberant\", \"glistening\"]\n",
    "\n",
    "prepositions = [\"against\", \"after\", \"into\", \"beneath\", \"upon\", \"for\", \"in\", \"like\", \"over\", \"within\"]\n",
    "\n",
    "adverbs = [\"curiously\", \"furiously\", \"sensuously\", \"extravagantly\", \"tantalizingly\"]\n",
    "\n",
    "nouns, verbs, adjectives, prepositions, adverbs"
   ]
  },
  {
   "cell_type": "markdown",
   "id": "144efed4-274e-4888-a11a-1202639d7633",
   "metadata": {},
   "source": [
    "# REview Exrecise4:"
   ]
  },
  {
   "cell_type": "code",
   "execution_count": 25,
   "id": "bed24093-e4b5-409e-ba50-71f5b69bdea8",
   "metadata": {},
   "outputs": [
    {
     "name": "stdout",
     "output_type": "stream",
     "text": [
      "The Enterprise is captained by Picard.\n",
      "The Voyager is captained by Janeway.\n",
      "The Defiant is captained by Sisko.\n",
      "The Discovery is captained by Unknown.\n"
     ]
    }
   ],
   "source": [
    "# 1.\n",
    "captains = {}\n",
    "\n",
    "# 2. \n",
    "captains[\"Enterprise\"] = \"Picard\"\n",
    "captains[\"Voyager\"] = \"Janeway\"\n",
    "captains[\"Defiant\"] = \"Sisko\"\n",
    "\n",
    "# 3.\n",
    "if \"Enterprise\" not in captains:\n",
    "    captains[\"Enterprise\"] = \"Unknown\"\n",
    "\n",
    "if \"Discovery\" not in captains:\n",
    "    captains[\"Discovery\"] = \"Unknown\"\n",
    "\n",
    "# 4.\n",
    "for ship, captain in captains.items():\n",
    "    print(f\"The {ship} is captained by {captain}.\")"
   ]
  },
  {
   "cell_type": "code",
   "execution_count": 26,
   "id": "3879158f-490b-484c-88df-e78b1f3b1193",
   "metadata": {},
   "outputs": [
    {
     "name": "stdout",
     "output_type": "stream",
     "text": [
      "After deleting Discovery:\n",
      "The Enterprise is captained by Picard.\n",
      "The Voyager is captained by Janeway.\n",
      "The Defiant is captained by Sisko.\n",
      "\n",
      "Dictionary created with dict():\n",
      "The Enterprise is captained by Picard.\n",
      "The Voyager is captained by Janeway.\n",
      "The Defiant is captained by Sisko.\n"
     ]
    }
   ],
   "source": [
    "# Starting dictionary\n",
    "captains = {\n",
    "    \"Enterprise\": \"Picard\",\n",
    "    \"Voyager\": \"Janeway\",\n",
    "    \"Defiant\": \"Sisko\",\n",
    "    \"Discovery\": \"Unknown\"\n",
    "}\n",
    "\n",
    "# 5.\n",
    "del captains[\"Discovery\"]\n",
    "\n",
    "print(\"After deleting Discovery:\")\n",
    "for ship, captain in captains.items():\n",
    "    print(f\"The {ship} is captained by {captain}.\")\n",
    "\n",
    "# 6. \n",
    "captains2 = dict(\n",
    "    Enterprise=\"Picard\",\n",
    "    Voyager=\"Janeway\",\n",
    "    Defiant=\"Sisko\"\n",
    ")\n",
    "\n",
    "print(\"\\nDictionary created with dict():\")\n",
    "for ship, captain in captains2.items():\n",
    "    print(f\"The {ship} is captained by {captain}.\")"
   ]
  },
  {
   "cell_type": "markdown",
   "id": "c6c96fa8-fce4-4213-923e-8468442fb0e5",
   "metadata": {},
   "source": [
    "# Challenges:Capital city loop:"
   ]
  },
  {
   "cell_type": "code",
   "execution_count": null,
   "id": "981f86ac-b420-40dd-9f0d-977958570ab0",
   "metadata": {},
   "outputs": [
    {
     "name": "stdout",
     "output_type": "stream",
     "text": [
      "Welcome to the State Capitals Quiz! Type 'exit' anytime to quit.\n",
      "\n"
     ]
    },
    {
     "name": "stdin",
     "output_type": "stream",
     "text": [
      "What is the capital of Alabama?  juneau\n"
     ]
    },
    {
     "name": "stdout",
     "output_type": "stream",
     "text": [
      "❌ Wrong. The capital of Alabama is Montgomery.\n",
      "\n"
     ]
    },
    {
     "name": "stdin",
     "output_type": "stream",
     "text": [
      "What is the capital of Alaska?  Phoenix\n"
     ]
    },
    {
     "name": "stdout",
     "output_type": "stream",
     "text": [
      "❌ Wrong. The capital of Alaska is Juneau.\n",
      "\n"
     ]
    },
    {
     "name": "stdin",
     "output_type": "stream",
     "text": [
      "What is the capital of Arizona?  Denv\n"
     ]
    },
    {
     "name": "stdout",
     "output_type": "stream",
     "text": [
      "❌ Wrong. The capital of Arizona is Phoenix.\n",
      "\n"
     ]
    },
    {
     "name": "stdin",
     "output_type": "stream",
     "text": [
      "What is the capital of Arkansas?  Little rock\n"
     ]
    },
    {
     "name": "stdout",
     "output_type": "stream",
     "text": [
      "✅ Correct!\n",
      "\n"
     ]
    }
   ],
   "source": [
    "# cahllenge\n",
    "\n",
    "capitals_dict = {\n",
    "    'Alabama': 'Montgomery',\n",
    "    'Alaska': 'Juneau',\n",
    "    'Arizona': 'Phoenix',\n",
    "    'Arkansas': 'Little Rock',\n",
    "    'California': 'Sacramento',\n",
    "    'Colorado': 'Denver',\n",
    "    'Connecticut': 'Hartford',\n",
    "    'Delaware': 'Dover',\n",
    "    'Florida': 'Tallahassee',\n",
    "    'Georgia': 'Atlanta'\n",
    "}\n",
    "\n",
    "print(\"Welcome to the State Capitals Quiz! Type 'exit' anytime to quit.\\n\")\n",
    "\n",
    "for state, capital in capitals_dict.items():\n",
    "    answer = input(f\"What is the capital of {state}? \").strip()\n",
    "    \n",
    "    if answer.lower() == \"exit\":\n",
    "        print(\"Thanks for playing! 👋\")\n",
    "        break\n",
    "    \n",
    "    if answer.lower() == capital.lower():\n",
    "        print(\"✅ Correct!\\n\")\n",
    "    else:\n",
    "        print(f\"❌ Wrong. The capital of {state} is {capital}.\\n\")"
   ]
  },
  {
   "cell_type": "code",
   "execution_count": null,
   "id": "6f9ae994-3637-481c-921b-78df162efae8",
   "metadata": {},
   "outputs": [],
   "source": []
  }
 ],
 "metadata": {
  "kernelspec": {
   "display_name": "Python 3 (ipykernel)",
   "language": "python",
   "name": "python3"
  },
  "language_info": {
   "codemirror_mode": {
    "name": "ipython",
    "version": 3
   },
   "file_extension": ".py",
   "mimetype": "text/x-python",
   "name": "python",
   "nbconvert_exporter": "python",
   "pygments_lexer": "ipython3",
   "version": "3.13.5"
  }
 },
 "nbformat": 4,
 "nbformat_minor": 5
}
