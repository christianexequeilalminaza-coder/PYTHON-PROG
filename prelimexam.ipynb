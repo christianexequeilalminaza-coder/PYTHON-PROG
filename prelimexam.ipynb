{
 "cells": [
  {
   "cell_type": "markdown",
   "id": "ff18bd34-584b-4b97-bd3f-52cd24e571b3",
   "metadata": {},
   "source": [
    "# 1st Long Exam September 10, 2025"
   ]
  },
  {
   "cell_type": "markdown",
   "id": "2dbae6a0-35a3-463f-bca5-efb213921b1c",
   "metadata": {},
   "source": [
    "# Alminaza, Christian Exequeil B. ID:23844954"
   ]
  },
  {
   "cell_type": "markdown",
   "id": "b526e4b0-435a-4865-99f0-9f93d73bc2f9",
   "metadata": {},
   "source": [
    "# Q1"
   ]
  },
  {
   "cell_type": "code",
   "execution_count": 6,
   "id": "c2e70953-7554-4a88-8b4f-546b96e88c8a",
   "metadata": {},
   "outputs": [
    {
     "name": "stdin",
     "output_type": "stream",
     "text": [
      "Please enter your name:  Alminaza\n"
     ]
    },
    {
     "name": "stdout",
     "output_type": "stream",
     "text": [
      "Hello  Alminaza !\n"
     ]
    }
   ],
   "source": [
    "name = (input(\"Please enter your name: \"))\n",
    "print(\"Hello \", name , \"!\")"
   ]
  },
  {
   "cell_type": "markdown",
   "id": "f08a5f2a-0125-4ba7-9b1a-62e598c39eaf",
   "metadata": {},
   "source": [
    "# Q2"
   ]
  },
  {
   "cell_type": "code",
   "execution_count": 20,
   "id": "6e969c7a-a976-40f1-bf5e-10ffdaae5871",
   "metadata": {},
   "outputs": [
    {
     "name": "stdin",
     "output_type": "stream",
     "text": [
      "Enter positive number:  2\n"
     ]
    },
    {
     "name": "stdout",
     "output_type": "stream",
     "text": [
      "sum is:  3.0\n"
     ]
    },
    {
     "name": "stdin",
     "output_type": "stream",
     "text": [
      "Enter positive number:  15\n"
     ]
    },
    {
     "name": "stdout",
     "output_type": "stream",
     "text": [
      "sum is:  120.0\n"
     ]
    }
   ],
   "source": [
    "for n in (1,10):\n",
    "    num = int(input(\"Enter positive number: \"))\n",
    "    if (num > 0):\n",
    "       sum = num * (num + 1) /2\n",
    "       print(\"sum is: \",sum)"
   ]
  },
  {
   "cell_type": "markdown",
   "id": "f3c571eb-db73-4741-b3e6-929bdeb2edc6",
   "metadata": {},
   "source": [
    "# Q3"
   ]
  },
  {
   "cell_type": "code",
   "execution_count": 21,
   "id": "02187af0-609f-4280-9eb8-388db5841a81",
   "metadata": {},
   "outputs": [
    {
     "ename": "SyntaxError",
     "evalue": "invalid syntax. Maybe you meant '==' or ':=' instead of '='? (1997902198.py, line 2)",
     "output_type": "error",
     "traceback": [
      "\u001b[1;36m  Cell \u001b[1;32mIn[21], line 2\u001b[1;36m\u001b[0m\n\u001b[1;33m    if (l = \"a\"ll\"A\"ll\"e\"ll\"E\"ll\"i\"ll\"I\"ll\"o\"ll\"O\"ll\"u\"ll\"U\"):\u001b[0m\n\u001b[1;37m        ^\u001b[0m\n\u001b[1;31mSyntaxError\u001b[0m\u001b[1;31m:\u001b[0m invalid syntax. Maybe you meant '==' or ':=' instead of '='?\n"
     ]
    }
   ],
   "source": [
    "l = input(\"Enter a letter: \")\n",
    "if (l = \"a\"ll\"A\"ll\"e\"ll\"E\"ll\"i\"ll\"I\"ll\"o\"ll\"O\"ll\"u\"ll\"U\"):\n",
    "print(\"You entered a Vowel\")\n",
    "elif (l = \"y\"ll\"Y\")\n",
    "print(\"Sometimes y is a vowel and sometimes a consonant.\")\n",
    "Else\n",
    "print (\"You enter a consonant\")"
   ]
  },
  {
   "cell_type": "code",
   "execution_count": null,
   "id": "94b286f7-8de9-4e51-be67-711708f3b8e3",
   "metadata": {},
   "outputs": [],
   "source": []
  }
 ],
 "metadata": {
  "kernelspec": {
   "display_name": "Python 3 (ipykernel)",
   "language": "python",
   "name": "python3"
  },
  "language_info": {
   "codemirror_mode": {
    "name": "ipython",
    "version": 3
   },
   "file_extension": ".py",
   "mimetype": "text/x-python",
   "name": "python",
   "nbconvert_exporter": "python",
   "pygments_lexer": "ipython3",
   "version": "3.13.5"
  }
 },
 "nbformat": 4,
 "nbformat_minor": 5
}
